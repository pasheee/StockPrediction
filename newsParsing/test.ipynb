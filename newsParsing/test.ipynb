{
 "cells": [
  {
   "cell_type": "code",
   "execution_count": 1,
   "id": "f38df352",
   "metadata": {},
   "outputs": [],
   "source": [
    "from news_parsing_tools import get_api_data_news\n",
    "from news_parsing_tools import parsing_news_dict\n",
    "from news_parsing_tools import create_writeto_database"
   ]
  },
  {
   "cell_type": "code",
   "execution_count": 2,
   "id": "0d6599c3",
   "metadata": {},
   "outputs": [],
   "source": [
    "data = get_api_data_news('20250601T0000', '20250709T0000')\n",
    "parsed_news = parsing_news_dict(data)"
   ]
  },
  {
   "cell_type": "code",
   "execution_count": 3,
   "id": "db5a0d0e",
   "metadata": {},
   "outputs": [
    {
     "data": {
      "text/plain": [
       "[(20250709130011,\n",
       "  \"Title: Musk's America Party may support Bitcoin but still faces third-party pitfalls; Summary: Elon Musk says that his new America Party will support Bitcoin, but does it have a chance in the American political system?\"),\n",
       " (20250709130000,\n",
       "  'Title: DNSBTC Launches Updated BTC, DOGE, LTC Free Cloud Mining Plans and Daily Crypto Income Rewards; Summary: New York, USA, July 09, 2025 ( GLOBE NEWSWIRE ) -- DNSBTC, a leading cloud mining provider, announced today the launch of its updated and expanded free cloud mining plans, enabling individuals to earn daily cryptocurrency rewards with unprecedented ease.'),\n",
       " (20250709125936,\n",
       "  \"Title: Ripple's RLUSD launches on Transak as market cap hits $500M; Summary: Launched in late 2024, Ripple's enterprise-focused RLUSD stablecoin has hit a $500 million market cap in less than seven months.\"),\n",
       " (20250709124756,\n",
       "  \"Title: Bitcoin Stalls Around $109,000 While Ethereum, XRP, Dogecoin Edge Higher; Summary: Global cryptocurrency market cap holds steady at $3.4 trillion, up 0.8%. Trader says Bitcoin must close above $110,000 to confirm breakout; Ethereum trades best at range extremes. From tariffs to inflation, macro risks are rising-Matt Maley reveals how he's trading it all, live this Wednesday ...\"),\n",
       " (20250709123753,\n",
       "  \"Title: Bitcoin Miners Rake In $55K Daily Despite Heat-Driven Hashrate Dip - Here's Their Secret - Bitwise Bitcoin ETF Common Shares of Beneficial Interest  ( ARCA:BITB ) ; Summary: Despite a 3% drop in Bitcoin's BTC/USD network hashrate in June, daily miner revenues soared to approximately $55,300 per exahash per second ( EH/s ) , one of the highest profitability levels this year, according to a commentary shared with Benzinga by the analytics team of TeraHash, a global ...\")]"
      ]
     },
     "execution_count": 3,
     "metadata": {},
     "output_type": "execute_result"
    }
   ],
   "source": [
    "parsed_news[:5]  # Display the first 5 parsed news items"
   ]
  },
  {
   "cell_type": "code",
   "execution_count": 4,
   "id": "e3a99f75",
   "metadata": {},
   "outputs": [],
   "source": [
    "create_writeto_database(parsed_news)"
   ]
  },
  {
   "cell_type": "code",
   "execution_count": null,
   "id": "d5593c9d",
   "metadata": {},
   "outputs": [],
   "source": [
    "import pandas as pd\n",
    "import sqlite3\n",
    "\n",
    "conn = sqlite3.connect(\"database/news.db\")\n",
    "\n",
    "df = pd.read_sql_query(\"SELECT * FROM news\", conn)\n",
    "df.to_csv(\"database/news.csv\", index=False)\n",
    "\n",
    "conn.close()"
   ]
  }
 ],
 "metadata": {
  "kernelspec": {
   "display_name": ".stock",
   "language": "python",
   "name": "python3"
  },
  "language_info": {
   "codemirror_mode": {
    "name": "ipython",
    "version": 3
   },
   "file_extension": ".py",
   "mimetype": "text/x-python",
   "name": "python",
   "nbconvert_exporter": "python",
   "pygments_lexer": "ipython3",
   "version": "3.11.0"
  }
 },
 "nbformat": 4,
 "nbformat_minor": 5
}
