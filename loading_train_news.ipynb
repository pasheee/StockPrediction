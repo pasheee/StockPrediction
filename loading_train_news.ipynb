{
 "cells": [
  {
   "cell_type": "code",
   "execution_count": 1,
   "id": "490f9464",
   "metadata": {},
   "outputs": [
    {
     "name": "stderr",
     "output_type": "stream",
     "text": [
      "f:\\stockpredproj\\StockPrediction\\.stock\\Lib\\site-packages\\tqdm\\auto.py:21: TqdmWarning: IProgress not found. Please update jupyter and ipywidgets. See https://ipywidgets.readthedocs.io/en/stable/user_install.html\n",
      "  from .autonotebook import tqdm as notebook_tqdm\n"
     ]
    }
   ],
   "source": [
    "from datasets import load_dataset\n",
    "from datasets import load_from_disk\n",
    "import os"
   ]
  },
  {
   "cell_type": "code",
   "execution_count": null,
   "id": "fb2e0a9a",
   "metadata": {},
   "outputs": [
    {
     "name": "stderr",
     "output_type": "stream",
     "text": [
      "Saving the dataset (3/3 shards): 100%|██████████| 210832/210832 [00:02<00:00, 90893.93 examples/s] \n"
     ]
    }
   ],
   "source": [
    "# Load the dataset from the Hugging Face repository <------ uncomment this line to load the dataset\n",
    "\n",
    "# ds = load_dataset(\"edaschau/bitcoin_news\")\n",
    "# ds.save_to_disk(os.path.join('train_news_dataset', 'hg_news'))"
   ]
  },
  {
   "cell_type": "code",
   "execution_count": 3,
   "id": "58ceb0cf",
   "metadata": {},
   "outputs": [],
   "source": [
    "# Download dataset from https://github.com/soheilrahsaz/cryptoNewsDataset/tree/main/csvOutput (news_currencies_source_joinedResult.rar) to train_news_dataset dir"
   ]
  },
  {
   "cell_type": "code",
   "execution_count": 4,
   "id": "93d35475",
   "metadata": {},
   "outputs": [],
   "source": [
    "import pandas as pd\n",
    "hg_data = None\n",
    "github_data = None"
   ]
  },
  {
   "cell_type": "code",
   "execution_count": 5,
   "id": "152f234c",
   "metadata": {},
   "outputs": [],
   "source": [
    "github_data = pd.read_csv(os.path.join('train_news_dataset', 'github_news', 'github_news.csv')) \n",
    "\n",
    "filtered_github_data = github_data[github_data['currencies'].str.contains('BTC', na=False)]\n",
    "filtered_github_data = filtered_github_data[['newsDatetime', 'title']]\n",
    "filtered_github_data = filtered_github_data.rename(columns={'newsDatetime': 'date_time'})"
   ]
  },
  {
   "cell_type": "code",
   "execution_count": 6,
   "id": "5431db39",
   "metadata": {},
   "outputs": [
    {
     "name": "stdout",
     "output_type": "stream",
     "text": [
      "['github_news', 'hg_news', 'merged_news.csv']\n"
     ]
    }
   ],
   "source": [
    "print(os.listdir('train_news_dataset'))"
   ]
  },
  {
   "cell_type": "code",
   "execution_count": 7,
   "id": "84cf0c1b",
   "metadata": {},
   "outputs": [],
   "source": [
    "hg_data = load_from_disk(os.path.join('train_news_dataset', 'hg_news'))\n",
    "\n",
    "hg_data = pd.DataFrame(hg_data['train'])\n",
    "hg_data['date_time'] = hg_data['date_time'].apply(lambda x: x[:-6] if isinstance(x, str) else x)\n",
    "hg_data = hg_data[['date_time', 'title', 'article_text']]"
   ]
  },
  {
   "cell_type": "code",
   "execution_count": 8,
   "id": "9c835e45",
   "metadata": {},
   "outputs": [],
   "source": [
    "news = pd.concat([filtered_github_data, hg_data], axis=0)\n",
    "\n",
    "# Convert 'date_time' to datetime format and filter out rows with invalid date formats\n",
    "news['date_length'] = news['date_time'].apply(lambda x: len(x)) \n",
    "filtered_news = news[news['date_length'] == 19] # filtering for date_time strings of length 19 (to convert to datetime, because 3 of them are not the same format)\n",
    "filtered_news = filtered_news.drop(columns=['date_length'])\n",
    "filtered_news['date_time'] = pd.to_datetime(filtered_news['date_time'])\n",
    "\n",
    "# Sort the DataFrame by 'date_time'\n",
    "filtered_news = filtered_news.sort_values('date_time')\n",
    "\n",
    "\n",
    "filtered_news.to_csv(os.path.join('train_news_dataset', 'merged_news.csv'), index=False)\n"
   ]
  }
 ],
 "metadata": {
  "kernelspec": {
   "display_name": ".stock",
   "language": "python",
   "name": "python3"
  },
  "language_info": {
   "codemirror_mode": {
    "name": "ipython",
    "version": 3
   },
   "file_extension": ".py",
   "mimetype": "text/x-python",
   "name": "python",
   "nbconvert_exporter": "python",
   "pygments_lexer": "ipython3",
   "version": "3.11.0"
  }
 },
 "nbformat": 4,
 "nbformat_minor": 5
}
