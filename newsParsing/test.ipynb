{
 "cells": [
  {
   "cell_type": "code",
   "execution_count": 3,
   "id": "f38df352",
   "metadata": {},
   "outputs": [],
   "source": [
    "from news_parsing_tools import get_api_data_news\n",
    "from news_parsing_tools import parsing_news_dict"
   ]
  },
  {
   "cell_type": "code",
   "execution_count": 4,
   "id": "0d6599c3",
   "metadata": {},
   "outputs": [],
   "source": [
    "data = get_api_data_news('20250601T0000', '20250709T0000')\n",
    "parsed_news = parsing_news_dict(data)"
   ]
  },
  {
   "cell_type": "code",
   "execution_count": 5,
   "id": "db5a0d0e",
   "metadata": {},
   "outputs": [
    {
     "data": {
      "text/plain": [
       "[(20250709120000,\n",
       "  'Title: KULR Reaches 750 PH/s in Bitcoin Mining Operations with Latest Deployment, Aims for 1.25 EH/s by Late Summer - KULR Technology Group  ( AMEX:KULR ) ; Summary: HOUSTON, July 09, 2025 ( GLOBE NEWSWIRE ) -- KULR Technology Group, Inc.'),\n",
       " (20250709115136,\n",
       "  'Title: Ethereum corporate treasuries critical for the ecosystem: Joseph Lubin; Summary: Ethereum co-founder Joseph Lubin said that corporate ETH treasuries are vital for driving ecosystem growth.'),\n",
       " (20250709113145,\n",
       "  \"Title: Anthony Scaramucci Once Slammed Dogecoin, Other Memecoins As 'Distraction' From The Purity Of Bitcoin - This Is The Stuff That Would Aggravate Warren Buffett - Grayscale Bitcoin Mini Trust  ( BTC )  Common units of fractional undivided beneficial interest  ( ARCA:BTC ) ; Summary: Anthony Scaramucci has been a staunch Bitcoin BTC/USD advocate over the years, but the SkyBridge Capital CEO does not hold meme coins in the same regard. What happened: During a CNBC interview, Scaramucci compared meme cryptocurrencies, including Dogecoin DOGE/USD, to the Dutch Tulip Bubble.\"),\n",
       " (20250709113000,\n",
       "  'Title: NextGen Digital Announces Private Placement of Special Warrants Convertible into Secured Digital Asset-Backed Notes; Summary: NOT FOR DISTRIBUTION TO UNITED STATES NEWSWIRE SERVICES OR FOR DISSEMINATION IN THE UNITED STATES NOT FOR DISTRIBUTION TO UNITED STATES NEWSWIRE SERVICES OR FOR DISSEMINATION IN THE UNITED STATES ...'),\n",
       " (20250709113000,\n",
       "  'Title: Bitdeer Announces June 2025 Production and Operations Update; Summary: - Joined the Russell 2000® and 3000® Indexes as of June 30, 2025- SEALMINER A3 series almost ready for mass production- Increased self-mining hashrate by 21% to 16.5 EH/s on continued deployment of ...')]"
      ]
     },
     "execution_count": 5,
     "metadata": {},
     "output_type": "execute_result"
    }
   ],
   "source": [
    "parsed_news[:5]  # Display the first 5 parsed news items"
   ]
  }
 ],
 "metadata": {
  "kernelspec": {
   "display_name": ".stock",
   "language": "python",
   "name": "python3"
  },
  "language_info": {
   "codemirror_mode": {
    "name": "ipython",
    "version": 3
   },
   "file_extension": ".py",
   "mimetype": "text/x-python",
   "name": "python",
   "nbconvert_exporter": "python",
   "pygments_lexer": "ipython3",
   "version": "3.11.0"
  }
 },
 "nbformat": 4,
 "nbformat_minor": 5
}
