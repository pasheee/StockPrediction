{
 "cells": [
  {
   "cell_type": "code",
   "execution_count": 1,
   "id": "5f2b7020",
   "metadata": {},
   "outputs": [],
   "source": [
    "import pandas as pd\n",
    "import os"
   ]
  },
  {
   "cell_type": "code",
   "execution_count": null,
   "id": "38c53490",
   "metadata": {},
   "outputs": [],
   "source": [
    "# Read the data from the CSV file\n",
    "data = pd.read_csv('result_train_data/result_data.csv')\n",
    "target = pd.Series(data['close'].shift(-1), name='target')"
   ]
  },
  {
   "cell_type": "code",
   "execution_count": null,
   "id": "a4f95318",
   "metadata": {},
   "outputs": [],
   "source": [
    "# Split the data into training and testing sets\n",
    "from sklearn.model_selection import train_test_split\n",
    "X_train, X_test, y_train, y_test = train_test_split(data.drop(columns=['close']), target, test_size=0.2, shuffle=False)"
   ]
  },
  {
   "cell_type": "code",
   "execution_count": null,
   "id": "781ff0b1",
   "metadata": {},
   "outputs": [],
   "source": [
    "# Concatenate features and target for train and test sets\n",
    "train_data = pd.concat([X_train, y_train], axis=1)\n",
    "test_data = pd.concat([X_test, y_test], axis=1)\n",
    "\n",
    "\n",
    "# Save the train and test datasets\n",
    "DIRNAME = 'final_dataset'\n",
    "TRAIN_FILENAME = 'train_data.csv'\n",
    "TEST_FILENAME = 'test_data.csv'\n",
    "\n",
    "PATH_TRAIN = os.path.join(DIRNAME, TRAIN_FILENAME)\n",
    "PATH_TEST = os.path.join(DIRNAME, TEST_FILENAME)\n",
    "\n",
    "train_data.to_csv(PATH_TRAIN, index=False)\n",
    "test_data.to_csv(PATH_TEST, index=False)"
   ]
  }
 ],
 "metadata": {
  "kernelspec": {
   "display_name": ".stock",
   "language": "python",
   "name": "python3"
  },
  "language_info": {
   "codemirror_mode": {
    "name": "ipython",
    "version": 3
   },
   "file_extension": ".py",
   "mimetype": "text/x-python",
   "name": "python",
   "nbconvert_exporter": "python",
   "pygments_lexer": "ipython3",
   "version": "3.11.0"
  }
 },
 "nbformat": 4,
 "nbformat_minor": 5
}
